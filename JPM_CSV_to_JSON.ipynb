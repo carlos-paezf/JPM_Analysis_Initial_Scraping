{
 "cells": [
  {
   "cell_type": "markdown",
   "id": "9458df56",
   "metadata": {
    "id": "9458df56"
   },
   "source": [
    "# Funciones de utilidad para interacción con data"
   ]
  },
  {
   "cell_type": "markdown",
   "id": "8773d9e5",
   "metadata": {
    "id": "8773d9e5"
   },
   "source": [
    "## Importaciones y funciones requeridas"
   ]
  },
  {
   "cell_type": "code",
   "execution_count": 44,
   "id": "2a991646",
   "metadata": {
    "id": "2a991646"
   },
   "outputs": [],
   "source": [
    "import csv\n",
    "import json\n",
    "import time\n",
    "import io\n",
    "import pandas as pd\n",
    "\n",
    "from datetime import datetime"
   ]
  },
  {
   "cell_type": "markdown",
   "id": "312d25d5",
   "metadata": {},
   "source": [
    "La función `normalize_str` es usada para limpiar los espacios en blanco al inicio y/o final de una cadena. También convirte algunas secuencias de caracteres innecesarios por guión bajo (`_`), o en otros casos, solo se remueven."
   ]
  },
  {
   "cell_type": "code",
   "execution_count": 45,
   "id": "gZFd-NXyeZ-g",
   "metadata": {
    "id": "gZFd-NXyeZ-g"
   },
   "outputs": [],
   "source": [
    "def normalize_str(original_str: str):\n",
    "    return original_str.strip().lower().replace(' - ', '_').replace(', ', '_').replace(' ', '_').replace('\\ufeff', '').replace('(', '').replace(')', '').replace('.', '_')"
   ]
  },
  {
   "cell_type": "markdown",
   "id": "318b9915",
   "metadata": {},
   "source": [
    "La función `parse_datetime` se encarga de recibir una fecha en formato `MM/dd/YYYY hh:mm:ss pm/am` y lo transforma en un formato de 24 horas con la siguiente apariencia `YYYY-MM-dd hh:mm:ss`."
   ]
  },
  {
   "cell_type": "code",
   "execution_count": 46,
   "id": "e0a808cd",
   "metadata": {},
   "outputs": [],
   "source": [
    "def parse_datetime(original_date: str):\n",
    "    return '' if original_date == '' else datetime.strptime(original_date, '%m/%d/%Y %I:%M:%S %p').strftime('%Y-%m-%d %H:%M:%S')"
   ]
  },
  {
   "cell_type": "markdown",
   "id": "e9d6881c",
   "metadata": {},
   "source": [
    "La función `format_value_to_sql` se encarga de convertir un valor en un formato SQL válido para las sentencias de DML."
   ]
  },
  {
   "cell_type": "code",
   "execution_count": 47,
   "id": "5ce6df9c",
   "metadata": {},
   "outputs": [],
   "source": [
    "def format_value_to_sql(value):\n",
    "    if value is None or value == '':\n",
    "        return 'NULL'\n",
    "    elif isinstance(value, str):\n",
    "        return f\"'{value}'\"\n",
    "    elif isinstance(value, bool):\n",
    "        return str(int(value))\n",
    "    elif isinstance(value, (int, float)):\n",
    "        return str(value)\n",
    "    else:\n",
    "        raise TyperError(f\"Unsupported value type: {type(value)}\")"
   ]
  },
  {
   "cell_type": "markdown",
   "id": "ef329a13",
   "metadata": {},
   "source": [
    "La función `open_json_file` se encarga de abrir un archivo y retornar su información en formato JSON."
   ]
  },
  {
   "cell_type": "code",
   "execution_count": 48,
   "id": "58e7c759",
   "metadata": {},
   "outputs": [],
   "source": [
    "def open_json_file(path):\n",
    "     with open(path, mode=\"r\", encoding=\"utf-8\") as file:\n",
    "        return json.load(file)"
   ]
  },
  {
   "cell_type": "markdown",
   "id": "21fe13ad",
   "metadata": {},
   "source": [
    "La función `safe_json_file` se encarga de guardar un archivo JSON con la data y en la ruta especificada en los parámetros."
   ]
  },
  {
   "cell_type": "code",
   "execution_count": 49,
   "id": "f7c787cd",
   "metadata": {},
   "outputs": [],
   "source": [
    "def safe_json_file(path, data):\n",
    "    with open(path, mode='w', encoding=\"utf-8\") as file:\n",
    "        file.write(json.dumps(data, indent=4))"
   ]
  },
  {
   "cell_type": "markdown",
   "id": "1829502a",
   "metadata": {},
   "source": [
    "## Extracción de archivos CSV desde un Excel"
   ]
  },
  {
   "cell_type": "markdown",
   "id": "6bd648cf",
   "metadata": {},
   "source": [
    "Mediante las siguiente líneas de código, se lográ dividir un archivo excel en diferentes archivos csv, para luego ser usados en la extracción de los datos."
   ]
  },
  {
   "cell_type": "code",
   "execution_count": 50,
   "id": "7ba0c1c8",
   "metadata": {
    "scrolled": true
   },
   "outputs": [],
   "source": [
    "excel_file = pd.ExcelFile(\"JPM-V2-20231122161725364_2326466888.xlsx\")\n",
    "\n",
    "sheet_names = excel_file.sheet_names\n",
    "\n",
    "new_names = {\n",
    "    \"Users\": 'company-users', \n",
    "    \"UserEntitlements\": 'users-entitlements', \n",
    "    \"Client\": 'products-accounts',\n",
    "    \"Summary\": \"summary\"\n",
    "}\n",
    "\n",
    "for sheet in sheet_names:\n",
    "    dataframe = excel_file.parse(sheet)\n",
    "    dataframe.to_csv(\"csv/\" + new_names[sheet] + \".csv\", index=False)"
   ]
  },
  {
   "cell_type": "markdown",
   "id": "gp26LvAxw1-_",
   "metadata": {
    "id": "gp26LvAxw1-_"
   },
   "source": [
    "## Conversión de Archivos CSV a JSON"
   ]
  },
  {
   "cell_type": "markdown",
   "id": "f76614fc",
   "metadata": {},
   "source": [
    "La función `csv_to_json` es la responsable de recibir un solo archivo en formato CSV y convertirlo en formato JSON. Se debe definir una ruta de entrada para la data original, y una ruta de salida para la data transformada. Es importante recalcar que, a través de este método se realiza un tratamiento especial a la sintaxís de las llaves."
   ]
  },
  {
   "cell_type": "code",
   "execution_count": 51,
   "id": "8b325aac",
   "metadata": {
    "id": "8b325aac"
   },
   "outputs": [],
   "source": [
    "def csv_to_json(csv_path, json_path):\n",
    "    with open(csv_path, encoding=\"utf-8\") as csv_file:\n",
    "        csv_reader = csv.DictReader(csv_file)\n",
    "\n",
    "        json_arr = [\n",
    "            {\n",
    "                normalize_str(key): value\n",
    "                for key, value in row.items()\n",
    "            }\n",
    "            for row in csv_reader\n",
    "        ]\n",
    "    \n",
    "    safe_json_file(path=json_path, data=json_arr)"
   ]
  },
  {
   "cell_type": "markdown",
   "id": "c104752c",
   "metadata": {},
   "source": [
    "La estrategia que se usa en la siguiente celda es, crear un arreglo con los nombres genericos de los archivos, y cada nombre es usado tanto para los archivos CSV cómo para los JSON. Para evitar confusiones en el directorio de archivos, se guarda cada archivo en una carpeta para su respectivo grupo de formato."
   ]
  },
  {
   "cell_type": "code",
   "execution_count": 52,
   "id": "b12f1e7b",
   "metadata": {
    "colab": {
     "base_uri": "https://localhost:8080/"
    },
    "id": "b12f1e7b",
    "outputId": "b2aa27db-460c-4290-ff89-cbe0359b5b28"
   },
   "outputs": [
    {
     "name": "stdout",
     "output_type": "stream",
     "text": [
      "Conversion in 0.0594 seconds\n"
     ]
    }
   ],
   "source": [
    "io_files_names = ['company-users', 'users-entitlements', 'products-accounts']\n",
    "\n",
    "start = time.perf_counter()\n",
    "\n",
    "for i in range(0, len(io_files_names)):\n",
    "    csv_to_json(\n",
    "        csv_path = f\"csv/{io_files_names[i]}.csv\", \n",
    "        json_path=f\"json/{io_files_names[i]}.json\"\n",
    "    )\n",
    "\n",
    "finish = time.perf_counter()\n",
    "\n",
    "print(f\"Conversion in {finish -start:0.4f} seconds\")"
   ]
  },
  {
   "cell_type": "markdown",
   "id": "1cd9a48c",
   "metadata": {},
   "source": [
    "## Extracción de Accounts"
   ]
  },
  {
   "cell_type": "markdown",
   "id": "d973938b",
   "metadata": {},
   "source": [
    "La función `extract_accounts` está encargada de recibir un arreglo de rutas para cargar de manera conjunta la información de todos los archivos recibidos, y luego crear un arreglo de objetos con las propiedades requeridas en el archivo JSON de salida."
   ]
  },
  {
   "cell_type": "code",
   "execution_count": 53,
   "id": "8c500982",
   "metadata": {},
   "outputs": [],
   "source": [
    "def extract_accounts(source_data_paths, output_data_path):\n",
    "    data = [item for path in source_data_paths for item in open_json_file(path)]\n",
    "    accounts = []\n",
    "    \n",
    "    for i in data:\n",
    "        account = {\n",
    "            'account_name': i['account_name'],\n",
    "            'account_number': i['account_number'] or '0',\n",
    "            'account_type': i['account_type'],\n",
    "            'bank_currency': i['bank_currency'] or None\n",
    "        }\n",
    "        # account['id'] = normalize_str(account['account_number'] + '_' + account['account_name'])\n",
    "        if account not in accounts and account['account_name'] != '':\n",
    "            accounts.append(account)\n",
    "    \n",
    "    safe_json_file(path=output_data_path, data=accounts)"
   ]
  },
  {
   "cell_type": "code",
   "execution_count": 54,
   "id": "5cdd03e7",
   "metadata": {},
   "outputs": [
    {
     "name": "stdout",
     "output_type": "stream",
     "text": [
      "Conversion in 0.0257 seconds\n"
     ]
    }
   ],
   "source": [
    "start = time.perf_counter()\n",
    "\n",
    "extract_accounts(\n",
    "    source_data_paths = [r\"json/users-entitlements.json\", r\"json/products-accounts.json\"],\n",
    "    output_data_path = r\"normalize-json/accounts.json\"\n",
    ")\n",
    "\n",
    "finish = time.perf_counter()\n",
    "\n",
    "print(f\"Conversion in {finish -start:0.4f} seconds\")"
   ]
  },
  {
   "cell_type": "markdown",
   "id": "fb0756c5",
   "metadata": {},
   "source": [
    "## Extracción de Products"
   ]
  },
  {
   "cell_type": "markdown",
   "id": "a63e631f",
   "metadata": {},
   "source": [
    "La función `extract_products` está encargada de recibir un arreglo de rutas para cargar de manera conjunta la información de todos los archivos recibidos, y luego crear un arreglo de objetos con las propiedades requeridas en el archivo JSON de salida."
   ]
  },
  {
   "cell_type": "code",
   "execution_count": 55,
   "id": "06fe49cf",
   "metadata": {},
   "outputs": [],
   "source": [
    "def extract_products(source_data_paths, output_data_path):\n",
    "    data = [item for path in source_data_paths for item in open_json_file(path)]\n",
    "    products = []\n",
    "    \n",
    "    for i in data:\n",
    "        product_name = i['product'].strip().split(', ')\n",
    "        product = {\n",
    "            'id': normalize_str(i['product']),\n",
    "            'product_name': product_name[0],\n",
    "            'sub_product': product_name[1] if len(product_name) > 1 else None\n",
    "        }\n",
    "        if product not in products:\n",
    "            products.append(product)\n",
    "            \n",
    "    safe_json_file(path=output_data_path, data=products)"
   ]
  },
  {
   "cell_type": "code",
   "execution_count": 56,
   "id": "b719ba80",
   "metadata": {},
   "outputs": [
    {
     "name": "stdout",
     "output_type": "stream",
     "text": [
      "Conversion in 0.0075 seconds\n"
     ]
    }
   ],
   "source": [
    "start = time.perf_counter()\n",
    "\n",
    "extract_products(\n",
    "    source_data_paths = [r\"json/users-entitlements.json\", r\"json/products-accounts.json\"],\n",
    "    output_data_path = r\"normalize-json/products.json\"\n",
    ")\n",
    "\n",
    "finish = time.perf_counter()\n",
    "\n",
    "print(f\"Conversion in {finish -start:0.4f} seconds\")"
   ]
  },
  {
   "cell_type": "markdown",
   "id": "8d70e0f6",
   "metadata": {},
   "source": [
    "## Extracción de Functions"
   ]
  },
  {
   "cell_type": "markdown",
   "id": "09b320c2",
   "metadata": {},
   "source": [
    "La función `extract_functions` está encargada de recibir una ruta para cargar la información del archivo, y luego crear un arreglo de objetos con las propiedades requeridas en el archivo JSON de salida."
   ]
  },
  {
   "cell_type": "code",
   "execution_count": 57,
   "id": "5cabe676",
   "metadata": {},
   "outputs": [],
   "source": [
    "def extract_functions(source_data_path, output_data_path):\n",
    "    data = open_json_file(source_data_path)\n",
    "    functions = []\n",
    "    \n",
    "    for i in data:\n",
    "        function = {\n",
    "            'id': normalize_str(i['function_name']),\n",
    "            'function_name': i['function_name'].strip()\n",
    "        }\n",
    "        if function not in functions and function['function_name'] != \"\":\n",
    "            functions.append(function)\n",
    "    \n",
    "    safe_json_file(path=output_data_path, data=functions)"
   ]
  },
  {
   "cell_type": "code",
   "execution_count": 58,
   "id": "d53b231d",
   "metadata": {},
   "outputs": [
    {
     "name": "stdout",
     "output_type": "stream",
     "text": [
      "Conversion in 0.0062 seconds\n"
     ]
    }
   ],
   "source": [
    "start = time.perf_counter()\n",
    "\n",
    "extract_functions(\n",
    "    source_data_path = r\"json/users-entitlements.json\",\n",
    "    output_data_path = r\"normalize-json/functions.json\"\n",
    ")\n",
    "\n",
    "finish = time.perf_counter()\n",
    "\n",
    "print(f\"Conversion in {finish -start:0.4f} seconds\")"
   ]
  },
  {
   "cell_type": "markdown",
   "id": "12e8467c",
   "metadata": {},
   "source": [
    "## Normalización de Company Users"
   ]
  },
  {
   "cell_type": "markdown",
   "id": "24849656",
   "metadata": {},
   "source": [
    "La función `normalize_company_users` recibe un archivo json y limpia los valores de la data de origen adaptandose a la tabla del modelo ER de la base de datos. En la data se debe normalizar el valor de la fecha, con el objetivo de hacerla compatible con el valor admitido por SQL."
   ]
  },
  {
   "cell_type": "code",
   "execution_count": 59,
   "id": "54db43c8",
   "metadata": {},
   "outputs": [],
   "source": [
    "def normalize_company_users(original_data_path, result_data_path):\n",
    "    data = open_json_file(original_data_path)\n",
    "    \n",
    "    for i in data:\n",
    "        i['access_id'] = i['accessid']\n",
    "        i['user_name'] = i['user_name'].strip()\n",
    "        i['user_status'] = i['user_status'] == 'Active'\n",
    "        i['user_last_logon_dt'] = parse_datetime(i['user_last_logon_dt'])\n",
    "            \n",
    "        del i['accessid']\n",
    "    \n",
    "    safe_json_file(path=result_data_path, data=data)"
   ]
  },
  {
   "cell_type": "code",
   "execution_count": 60,
   "id": "e7e0e240",
   "metadata": {},
   "outputs": [
    {
     "name": "stdout",
     "output_type": "stream",
     "text": [
      "Conversion in 0.0128 seconds\n"
     ]
    }
   ],
   "source": [
    "start = time.perf_counter()\n",
    "\n",
    "normalize_company_users(\n",
    "    original_data_path = r\"json/company-users.json\",\n",
    "    result_data_path = r\"normalize-json/company-users.json\"\n",
    ")\n",
    "\n",
    "finish = time.perf_counter()\n",
    "\n",
    "print(f\"Conversion in {finish -start:0.4f} seconds\")"
   ]
  },
  {
   "cell_type": "markdown",
   "id": "Gwy3sZ6lyMcQ",
   "metadata": {
    "id": "Gwy3sZ6lyMcQ"
   },
   "source": [
    "## Normalización de ProductsAccounts"
   ]
  },
  {
   "cell_type": "markdown",
   "id": "c23b1c2c",
   "metadata": {},
   "source": [
    "La función `normalize_clients` recibe un archivo json y limpia los valores de la data de origen adaptandose a la tabla del modelo ER de la base de datos. Se eliminan las columnas que no son requeridas en la base de datos, y adapta el valor de la columna `product` para la crear la referencia fóranea a la tabla de productos."
   ]
  },
  {
   "cell_type": "code",
   "execution_count": 61,
   "id": "BWxbzyx5yPPA",
   "metadata": {
    "id": "BWxbzyx5yPPA"
   },
   "outputs": [],
   "source": [
    "def normalize_clients(original_data_path, result_data_path):\n",
    "    data = open_json_file(original_data_path)\n",
    "\n",
    "    for i in data:\n",
    "        i['id'] = normalize_str(i['product'] + '_' + i['account_number'])\n",
    "        i['product_id'] = normalize_str(i['product'])\n",
    "        \n",
    "        del i['product']\n",
    "        del i['account_name']\n",
    "        del i['account_type']\n",
    "        del i['bank_currency']\n",
    "    \n",
    "    safe_json_file(path=result_data_path, data=data)"
   ]
  },
  {
   "cell_type": "code",
   "execution_count": 62,
   "id": "92078fdd",
   "metadata": {},
   "outputs": [
    {
     "name": "stdout",
     "output_type": "stream",
     "text": [
      "Conversion in 0.0025 seconds\n"
     ]
    }
   ],
   "source": [
    "start = time.perf_counter()\n",
    "\n",
    "normalize_clients(\n",
    "    original_data_path = r\"json/products-accounts.json\",\n",
    "    result_data_path = r\"normalize-json/products-accounts.json\"\n",
    ")\n",
    "\n",
    "finish = time.perf_counter()\n",
    "\n",
    "print(f\"Conversion in {finish -start:0.4f} seconds\")"
   ]
  },
  {
   "cell_type": "markdown",
   "id": "y2A1_hsExFZv",
   "metadata": {
    "id": "y2A1_hsExFZv"
   },
   "source": [
    "## Normalización de Users Entitlements"
   ]
  },
  {
   "cell_type": "markdown",
   "id": "379192b5",
   "metadata": {},
   "source": [
    "La función `normalize_users_entitlements` recibe un archivo json y limpia los valores de la data de origen adaptandose a la tabla del modelo ER de la base de datos. Se eliminan las columnas que no son requeridas en la base de datos, y adapta el valor de la columna `product` para la crear la referencia fóranea a la tabla de productos al igual que pasa con `function`."
   ]
  },
  {
   "cell_type": "code",
   "execution_count": 63,
   "id": "f706dea7",
   "metadata": {
    "id": "f706dea7"
   },
   "outputs": [],
   "source": [
    "def normalize_users_entitlements(original_data_path, result_data_path):\n",
    "    data = open_json_file(original_data_path)\n",
    "\n",
    "    for i in data:\n",
    "        i['access_id'] = i['accessid']\n",
    "        i['product_id'] = normalize_str(i['product'])\n",
    "        i['function_id'] = normalize_str(i['function_name'])\n",
    "        i['id'] = normalize_str(i['access_id'] + '_' + i['account_number'] + '_' + i['product_id'] + '_' + i['function_id'] + '_' + i['function_type'])\n",
    "        \n",
    "        del i['accessid']\n",
    "        del i['product']\n",
    "        del i['function_name']\n",
    "        del i['account_name']\n",
    "        del i['account_type']\n",
    "        del i['bank_currency']\n",
    "\n",
    "    safe_json_file(path=result_data_path, data=data)"
   ]
  },
  {
   "cell_type": "code",
   "execution_count": 64,
   "id": "48fdf2b8",
   "metadata": {
    "id": "48fdf2b8"
   },
   "outputs": [
    {
     "name": "stdout",
     "output_type": "stream",
     "text": [
      "Conversion in 0.0184 seconds\n"
     ]
    }
   ],
   "source": [
    "start = time.perf_counter()\n",
    "\n",
    "normalize_users_entitlements(\n",
    "    original_data_path = r\"json/users-entitlements.json\",\n",
    "    result_data_path = r\"normalize-json/users-entitlements.json\"\n",
    ")\n",
    "\n",
    "finish = time.perf_counter()\n",
    "\n",
    "print(f\"Conversion in {finish -start:0.4f} seconds\")"
   ]
  },
  {
   "cell_type": "markdown",
   "id": "f1470911",
   "metadata": {},
   "source": [
    "## Definición de Perfil - Usuario\n",
    "\n",
    "![Profiles](./Profiles.png)"
   ]
  },
  {
   "cell_type": "markdown",
   "id": "266a9391",
   "metadata": {},
   "source": [
    "La función `get_company_user_index` se encarga de buscar un usuario mediante su `access_id` en un arreglo de objetos y luego retorna el indice en que se encuentra dentro de la lista."
   ]
  },
  {
   "cell_type": "code",
   "execution_count": 65,
   "id": "38b02311",
   "metadata": {},
   "outputs": [],
   "source": [
    "def get_company_user_index(data, access_id):\n",
    "    for i, d in enumerate(data):\n",
    "        if d['access_id'] == access_id:\n",
    "            return i"
   ]
  },
  {
   "cell_type": "markdown",
   "id": "1470c3ca",
   "metadata": {},
   "source": [
    "La función `get_users_functions_products` se encarga de agrupar por usuario las combinaciones de los campos `function_id`, `function_type` y `product_id` de la data normalizada de `user_entitlements`."
   ]
  },
  {
   "cell_type": "code",
   "execution_count": 66,
   "id": "460ece29",
   "metadata": {},
   "outputs": [],
   "source": [
    "def get_users_functions_products(user_entitlements):\n",
    "    return {\n",
    "        i['access_id']: [\n",
    "            {\n",
    "                'function_id': normalize_str(j['function_id']),\n",
    "                'function_type': j['function_type'].strip(),\n",
    "                'product_id': j['product_id'].strip()\n",
    "            }\n",
    "            for j in user_entitlements\n",
    "            if j['access_id'] == i['access_id']\n",
    "        ]\n",
    "        for i in user_entitlements\n",
    "    }"
   ]
  },
  {
   "cell_type": "markdown",
   "id": "cdd0cb37",
   "metadata": {},
   "source": [
    "La función `get_unique_user_functions_products` se encarga de obtener los valores únicos por usuario para los campos de `function_id` y `product_id`, por lo tanto, hace uso de los datos retornados por la función `get_users_functions_products` y recorre los campos para limpiar valores nulos o duplicados."
   ]
  },
  {
   "cell_type": "code",
   "execution_count": 67,
   "id": "f9490d31",
   "metadata": {},
   "outputs": [],
   "source": [
    "def get_unique_user_functions_products(user_entitlements):\n",
    "    unique_access_id = get_users_functions_products(user_entitlements)\n",
    "    \n",
    "    return [\n",
    "        {\n",
    "            'access_id': access_id,\n",
    "            'function_id': sorted(list(set(i['function_id'] for i in values if i['function_id'] != ''))),\n",
    "            'product_id': sorted(list(set(i['product_id'] for i in values if i['product_id'] != '')))\n",
    "        }\n",
    "        for access_id, values in unique_access_id.items()\n",
    "    ]"
   ]
  },
  {
   "cell_type": "markdown",
   "id": "c32428c6",
   "metadata": {},
   "source": [
    "La función `define_user_profile` se encarga de asignar el perfil a cada usuario en el archivo json normalizado. Lo primero es cargar el archivo de `user_entitlements` para obtener la información respecto a productos y funciones del usuario, luego, se extraen los valores únicos de ambos campos, para ser barridos y determinar que si el usuario tiene un producto llamado `administration` entonces debe ser un administrado, en caso contrario se comparan las acciones y a partir de las mismas se determina el perfil, tal cómo se muestra en la imágen de arriba."
   ]
  },
  {
   "cell_type": "code",
   "execution_count": 68,
   "id": "8c86d79a",
   "metadata": {},
   "outputs": [],
   "source": [
    "def define_user_profile(user_entitlements_path, company_users_path):\n",
    "    user_entitlements = open_json_file(user_entitlements_path)\n",
    "    company_users = open_json_file(company_users_path)\n",
    "    \n",
    "    capture_actions = ['cancel', 'input', 'amend']\n",
    "    verification_actions = ['approve']\n",
    "    authorization_actions = ['release']\n",
    "    \n",
    "    user_functions_products = get_unique_user_functions_products(user_entitlements)\n",
    "    \n",
    "    for i in user_functions_products:\n",
    "        function_id = i['function_id']\n",
    "        \n",
    "        company_user_index = get_company_user_index(company_users, i['access_id'])\n",
    "        if company_user_index is None:\n",
    "            print(f'access_id {i[\"access_id\"]} not found in company_users')\n",
    "            continue\n",
    "        \n",
    "        if any(product_id == 'administration' for product_id in i['product_id']):\n",
    "            company_users[company_user_index]['profile_id'] = 'administrator'\n",
    "        \n",
    "        elif set(capture_actions).issubset(set(function_id)):\n",
    "            company_users[company_user_index]['profile_id'] = 'capture'\n",
    "        elif set(verification_actions).issubset(set(function_id)):\n",
    "            company_users[company_user_index]['profile_id'] = 'verification'\n",
    "        elif set(authorization_actions).issubset(set(function_id)):\n",
    "            company_users[company_user_index]['profile_id'] = 'authorization'\n",
    "        else:\n",
    "            company_users[company_user_index]['profile_id'] = 'viewer'\n",
    "        \n",
    "    safe_json_file(path=company_users_path, data=company_users)"
   ]
  },
  {
   "cell_type": "code",
   "execution_count": 69,
   "id": "da785d76",
   "metadata": {},
   "outputs": [
    {
     "name": "stdout",
     "output_type": "stream",
     "text": [
      "Conversion in 0.1727 seconds\n"
     ]
    }
   ],
   "source": [
    "start = time.perf_counter()\n",
    "\n",
    "define_user_profile(\n",
    "    user_entitlements_path = r\"normalize-json/users-entitlements.json\",\n",
    "    company_users_path = r\"normalize-json/company-users.json\"\n",
    ")\n",
    "\n",
    "finish = time.perf_counter()\n",
    "\n",
    "print(f\"Conversion in {finish -start:0.4f} seconds\")"
   ]
  },
  {
   "cell_type": "markdown",
   "id": "52b3ae62",
   "metadata": {},
   "source": [
    "## Asignación de Profiles - Functions"
   ]
  },
  {
   "cell_type": "markdown",
   "id": "0afe12e8",
   "metadata": {},
   "source": [
    "La función `get_unique_user_functions` se encarga de obtener los valores únicos por usuario para el campo de `function_id`, por lo tanto, hace uso de los datos retornados por la función `get_users_functions_products` y recorre los campos para limpiar valores nulos o duplicados."
   ]
  },
  {
   "cell_type": "code",
   "execution_count": 70,
   "id": "db6a9098",
   "metadata": {},
   "outputs": [],
   "source": [
    "def get_unique_user_functions(user_entitlements):\n",
    "    unique_access_id = get_users_functions_products(user_entitlements)\n",
    "    \n",
    "    return [\n",
    "        {\n",
    "            'access_id': access_id,\n",
    "            'function_id': sorted(list(set(i['function_id'] for i in values if i['function_id'] != ''))),\n",
    "        }\n",
    "        for access_id, values in unique_access_id.items()\n",
    "    ]"
   ]
  },
  {
   "cell_type": "markdown",
   "id": "e100225c",
   "metadata": {},
   "source": [
    "La función `define_profiles_functions` se encarga de recibir las funciones que tiene cada usuario que se encuentran en `user_entitlements`, luego busca el perfil del mismo dentro de `company_users` y asocia el perfil con las funciones. Por último, realiza una limpieza de combinaciones duplicadas entre perfiles y funciones."
   ]
  },
  {
   "cell_type": "code",
   "execution_count": 71,
   "id": "654f0cda",
   "metadata": {},
   "outputs": [],
   "source": [
    "def define_profiles_functions(user_entitlements_path, company_users_path, output_data_path):\n",
    "    user_entitlements = open_json_file(user_entitlements_path)\n",
    "    company_users = open_json_file(company_users_path)\n",
    "        \n",
    "    unique_user_functions = get_unique_user_functions(user_entitlements)\n",
    "    \n",
    "    profiles_ids = {\n",
    "        \"administrator\": [],\n",
    "        \"authorization\": [],\n",
    "        \"capture\": [],\n",
    "        \"verification\": [],\n",
    "        \"viewer\": []\n",
    "    }\n",
    "    \n",
    "    for i in unique_user_functions:\n",
    "        company_user_index = get_company_user_index(company_users, i['access_id'])\n",
    "        profiles_ids[company_users[company_user_index]['profile_id']].append(i)\n",
    "    \n",
    "    profiles_functions_json = [\n",
    "        {\n",
    "            \"id\": normalize_str(profile_id + '_' + function_id),\n",
    "            \"profile_id\": profile_id,\n",
    "            \"function_id\": function_id\n",
    "        }\n",
    "        for profile_id, company_users in profiles_ids.items()\n",
    "        for user in company_users\n",
    "        for function_id in user['function_id']\n",
    "    ]\n",
    "    \n",
    "    profiles_functions_json = sorted(\n",
    "        list(map(dict, set(tuple(sorted(d.items(), reverse=True)) for d in profiles_functions_json))),\n",
    "        key=lambda d: d[\"profile_id\"]\n",
    "    )\n",
    "    \n",
    "    safe_json_file(path=output_data_path, data=profiles_functions_json)"
   ]
  },
  {
   "cell_type": "code",
   "execution_count": 72,
   "id": "57e00215",
   "metadata": {},
   "outputs": [
    {
     "name": "stdout",
     "output_type": "stream",
     "text": [
      "Conversion in 0.1356 seconds\n"
     ]
    }
   ],
   "source": [
    "start = time.perf_counter()\n",
    "\n",
    "define_profiles_functions(    \n",
    "    user_entitlements_path = r\"normalize-json/users-entitlements.json\",\n",
    "    company_users_path = r\"normalize-json/company-users.json\",\n",
    "    output_data_path = r\"normalize-json/profiles-functions.json\"\n",
    ")\n",
    "\n",
    "finish = time.perf_counter()\n",
    "\n",
    "print(f\"Conversion in {finish -start:0.4f} seconds\")"
   ]
  },
  {
   "cell_type": "markdown",
   "id": "d86548c9",
   "metadata": {},
   "source": [
    "## Normalize Profiles"
   ]
  },
  {
   "cell_type": "markdown",
   "id": "044202e7",
   "metadata": {},
   "source": [
    "La función `create_profiles_json` carga un arreglo de json dentro de un archivo definido"
   ]
  },
  {
   "cell_type": "code",
   "execution_count": 73,
   "id": "01b77e08",
   "metadata": {},
   "outputs": [],
   "source": [
    "def create_profiles_json(output_data_path):\n",
    "    profiles = [\n",
    "        {\n",
    "            \"id\": \"capture\",\n",
    "            \"profile_name\": \"Capture\"\n",
    "        },\n",
    "        {\n",
    "            \"id\": \"verification\",\n",
    "            \"profile_name\": \"Verification\"\n",
    "        },\n",
    "        {\n",
    "            \"id\": \"authorization\",\n",
    "            \"profile_name\": \"Authorization\"\n",
    "        },\n",
    "        {\n",
    "            \"id\": \"administrator\",\n",
    "            \"profile_name\": \"Administrador\"\n",
    "        },\n",
    "        {\n",
    "            \"id\": \"viewer\",\n",
    "            \"profile_name\": \"Viewer\"\n",
    "        }\n",
    "    ]\n",
    "    \n",
    "    safe_json_file(path=output_data_path, data=profiles)"
   ]
  },
  {
   "cell_type": "code",
   "execution_count": 74,
   "id": "890bb5b1",
   "metadata": {},
   "outputs": [
    {
     "name": "stdout",
     "output_type": "stream",
     "text": [
      "Conversion in 0.0011 seconds\n"
     ]
    }
   ],
   "source": [
    "start = time.perf_counter()\n",
    "\n",
    "create_profiles_json(    \n",
    "    output_data_path = r\"normalize-json/profiles.json\"\n",
    ")\n",
    "\n",
    "finish = time.perf_counter()\n",
    "\n",
    "print(f\"Conversion in {finish -start:0.4f} seconds\")"
   ]
  },
  {
   "cell_type": "markdown",
   "id": "65e36b5d",
   "metadata": {
    "id": "65e36b5d"
   },
   "source": [
    "## Conversión de JSON a SQL Queries"
   ]
  },
  {
   "cell_type": "markdown",
   "id": "80e37962",
   "metadata": {},
   "source": [
    "La función `convert_json_to_sql` se encarga de convertir los registros JSON en sentencias INSERT de SQL, para esto recorre cada objeto y determina que el nombre de las columnas son el nombre de las llaves del diccionario, mientras que los valores deben mantener su formato adaptado a SQL mediante la función `format_value_to_sql`."
   ]
  },
  {
   "cell_type": "code",
   "execution_count": 75,
   "id": "bc86113b",
   "metadata": {
    "id": "bc86113b",
    "outputId": "f3cb06b9-f109-4cc0-a921-c6b7f7d45782"
   },
   "outputs": [],
   "source": [
    "def convert_json_to_sql(table_name, json_data_path, sql_queries_path):\n",
    "    data = open_json_file(json_data_path)\n",
    "\n",
    "    sql_queries = [\n",
    "        \"INSERT INTO {table_name} ({columns}) VALUES ({values});\".format(\n",
    "            table_name = table_name,\n",
    "            columns = ', '.join(i.keys()),\n",
    "            values = ', '.join([format_value_to_sql(v) for v in i.values()])\n",
    "        )\n",
    "        for i in data\n",
    "    ]\n",
    "\n",
    "    sql_file = io.open(sql_queries_path, 'w')\n",
    "\n",
    "    for query in sql_queries:\n",
    "        sql_file.write(query + '\\n')\n",
    "\n",
    "    sql_file.close()"
   ]
  },
  {
   "cell_type": "markdown",
   "id": "bd0a6e2c",
   "metadata": {},
   "source": [
    "### Accounts"
   ]
  },
  {
   "cell_type": "code",
   "execution_count": 76,
   "id": "b3cec0f3",
   "metadata": {},
   "outputs": [
    {
     "name": "stdout",
     "output_type": "stream",
     "text": [
      "Conversion in 0.0022 seconds\n"
     ]
    }
   ],
   "source": [
    "start = time.perf_counter()\n",
    "\n",
    "convert_json_to_sql(\n",
    "    table_name = 'accounts',\n",
    "    json_data_path = r\"normalize-json/accounts.json\",\n",
    "    sql_queries_path = r\"sql/accounts.sql\"\n",
    ")\n",
    "\n",
    "finish = time.perf_counter()\n",
    "\n",
    "print(f\"Conversion in {finish -start:0.4f} seconds\")"
   ]
  },
  {
   "cell_type": "markdown",
   "id": "2f18f8c3",
   "metadata": {},
   "source": [
    "### Functions"
   ]
  },
  {
   "cell_type": "code",
   "execution_count": 77,
   "id": "9eecda65",
   "metadata": {},
   "outputs": [
    {
     "name": "stdout",
     "output_type": "stream",
     "text": [
      "Conversion in 0.0025 seconds\n"
     ]
    }
   ],
   "source": [
    "start = time.perf_counter()\n",
    "\n",
    "convert_json_to_sql(\n",
    "    table_name = 'functions',\n",
    "    json_data_path = r\"normalize-json/functions.json\",\n",
    "    sql_queries_path = r\"sql/functions.sql\"\n",
    ")\n",
    "\n",
    "finish = time.perf_counter()\n",
    "\n",
    "print(f\"Conversion in {finish -start:0.4f} seconds\")"
   ]
  },
  {
   "cell_type": "markdown",
   "id": "669bfaf1",
   "metadata": {},
   "source": [
    "### Products"
   ]
  },
  {
   "cell_type": "code",
   "execution_count": 78,
   "id": "34211c6b",
   "metadata": {},
   "outputs": [
    {
     "name": "stdout",
     "output_type": "stream",
     "text": [
      "Conversion in 0.0022 seconds\n"
     ]
    }
   ],
   "source": [
    "start = time.perf_counter()\n",
    "\n",
    "convert_json_to_sql(\n",
    "    table_name = 'products',\n",
    "    json_data_path = r\"normalize-json/products.json\",\n",
    "    sql_queries_path = r\"sql/products.sql\"\n",
    ")\n",
    "\n",
    "finish = time.perf_counter()\n",
    "\n",
    "print(f\"Conversion in {finish -start:0.4f} seconds\")"
   ]
  },
  {
   "cell_type": "markdown",
   "id": "beb941c7",
   "metadata": {},
   "source": [
    "### ProductsAccounts"
   ]
  },
  {
   "cell_type": "code",
   "execution_count": 79,
   "id": "38281ffd",
   "metadata": {},
   "outputs": [
    {
     "name": "stdout",
     "output_type": "stream",
     "text": [
      "Conversion in 0.0093 seconds\n"
     ]
    }
   ],
   "source": [
    "start = time.perf_counter()\n",
    "\n",
    "convert_json_to_sql(\n",
    "    table_name = 'products_accounts',\n",
    "    json_data_path = r\"normalize-json/products-accounts.json\",\n",
    "    sql_queries_path = r\"sql/products-accounts.sql\"\n",
    ")\n",
    "\n",
    "finish = time.perf_counter()\n",
    "\n",
    "print(f\"Conversion in {finish -start:0.4f} seconds\")"
   ]
  },
  {
   "cell_type": "markdown",
   "id": "03c71fff",
   "metadata": {},
   "source": [
    "### Company Users"
   ]
  },
  {
   "cell_type": "code",
   "execution_count": 80,
   "id": "05fdb9c5",
   "metadata": {},
   "outputs": [
    {
     "name": "stdout",
     "output_type": "stream",
     "text": [
      "Conversion in 0.0022 seconds\n"
     ]
    }
   ],
   "source": [
    "start = time.perf_counter()\n",
    "\n",
    "convert_json_to_sql(\n",
    "    table_name = 'company_users',\n",
    "    json_data_path = r\"normalize-json/company-users.json\",\n",
    "    sql_queries_path = r\"sql/company-users.sql\"\n",
    ")\n",
    "\n",
    "finish = time.perf_counter()\n",
    "\n",
    "print(f\"Conversion in {finish -start:0.4f} seconds\")"
   ]
  },
  {
   "cell_type": "markdown",
   "id": "a60381c1",
   "metadata": {},
   "source": [
    "### User Entitlements"
   ]
  },
  {
   "cell_type": "code",
   "execution_count": 81,
   "id": "4f6e1063",
   "metadata": {},
   "outputs": [
    {
     "name": "stdout",
     "output_type": "stream",
     "text": [
      "Conversion in 0.0124 seconds\n"
     ]
    }
   ],
   "source": [
    "start = time.perf_counter()\n",
    "\n",
    "convert_json_to_sql(\n",
    "    table_name = 'user_entitlements',\n",
    "    json_data_path = r\"normalize-json/users-entitlements.json\",\n",
    "    sql_queries_path = r\"sql/users-entitlements.sql\"\n",
    ")\n",
    "\n",
    "finish = time.perf_counter()\n",
    "\n",
    "print(f\"Conversion in {finish -start:0.4f} seconds\")"
   ]
  },
  {
   "cell_type": "markdown",
   "id": "00000b84",
   "metadata": {},
   "source": [
    "### Profiles"
   ]
  },
  {
   "cell_type": "code",
   "execution_count": 82,
   "id": "5e358fb3",
   "metadata": {},
   "outputs": [
    {
     "name": "stdout",
     "output_type": "stream",
     "text": [
      "Conversion in 0.0022 seconds\n"
     ]
    }
   ],
   "source": [
    "start = time.perf_counter()\n",
    "\n",
    "convert_json_to_sql(\n",
    "    table_name = 'profiles',\n",
    "    json_data_path = r\"normalize-json/profiles.json\",\n",
    "    sql_queries_path = r\"sql/profiles.sql\"\n",
    ")\n",
    "\n",
    "finish = time.perf_counter()\n",
    "\n",
    "print(f\"Conversion in {finish -start:0.4f} seconds\")"
   ]
  },
  {
   "cell_type": "markdown",
   "id": "c7c76e6d",
   "metadata": {},
   "source": [
    "### Profiles Functions"
   ]
  },
  {
   "cell_type": "code",
   "execution_count": 83,
   "id": "dd47bfa5",
   "metadata": {},
   "outputs": [
    {
     "name": "stdout",
     "output_type": "stream",
     "text": [
      "Conversion in 0.0030 seconds\n"
     ]
    }
   ],
   "source": [
    "start = time.perf_counter()\n",
    "\n",
    "convert_json_to_sql(\n",
    "    table_name = 'profiles_functions',\n",
    "    json_data_path = r\"normalize-json/profiles-functions.json\",\n",
    "    sql_queries_path = r\"sql/profiles-functions.sql\"\n",
    ")\n",
    "\n",
    "finish = time.perf_counter()\n",
    "\n",
    "print(f\"Conversion in {finish -start:0.4f} seconds\")"
   ]
  }
 ],
 "metadata": {
  "colab": {
   "provenance": []
  },
  "kernelspec": {
   "display_name": "Python 3 (ipykernel)",
   "language": "python",
   "name": "python3"
  },
  "language_info": {
   "codemirror_mode": {
    "name": "ipython",
    "version": 3
   },
   "file_extension": ".py",
   "mimetype": "text/x-python",
   "name": "python",
   "nbconvert_exporter": "python",
   "pygments_lexer": "ipython3",
   "version": "3.11.2"
  }
 },
 "nbformat": 4,
 "nbformat_minor": 5
}
